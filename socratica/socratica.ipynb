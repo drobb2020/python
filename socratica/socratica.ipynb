{
 "cells": [
  {
   "source": [
    "# Socratica YouTube Tutorials\n",
    "\n",
    "Learning scripts\n",
    "\n",
    "** David Robb **\n",
    "* drobb2011@gmail.com\n",
    "* Early to mid 2020\n",
    "\n",
    "** Table of Contents **\n",
    "* Learn Pyton\n",
    "* Hello World\n",
    "* Python Strings\n",
    "* Numbers in Python 2\n",
    "* Numbers in Python 3\n",
    "* Arithemtic in Python 2\n",
    "* Arithemtic in Python 3\n",
    "* Interactive Help\n",
    "* Python Booleans\n",
    "* Datetime Module\n",
    "* If, Then, Else in Python\n",
    "* Python Functions\n",
    "* Sets in Python\n",
    "* Python Lists\n",
    "* Python Dictionaries\n",
    "* Python Tuples\n",
    "* Logging in Python\n",
    "* Recursion, the Fibonacci Sequence and Memoization\n",
    "* Python Random number generator\n",
    "* CSV files in Python\n",
    "* A Random Walk & Monte Carlo Simulator\n",
    "* List Comprehension\n",
    "* Python Classes and Objects\n",
    "* Python and Prime Numbers\n",
    "* PyDoc\n",
    "* JSON in Python\n",
    "* Lambda Expressions & Anonymous Functions\n",
    "* Map, Filter, and Reduce Functions\n",
    "* Sorting in Python\n",
    "* Text files in Python\n",
    "* Unit Tests in Python\n",
    "* Exceptions in Python\n",
    "* Urllib - GET Requests\n",
    "\n",
    "\n"
   ],
   "cell_type": "markdown",
   "metadata": {}
  },
  {
   "source": [
    "## Learning Python ##\n",
    "Python is a clean and powerful programming language.  You can use it to build websites, analyze data, write utilities, and create many other kinds of software.  In this series we will teach everything you need to know to begin writing your own code in Python."
   ],
   "cell_type": "markdown",
   "metadata": {}
  },
  {
   "source": [
    "# Hello World\n",
    "\n",
    "* hello world! A simple script to print out hello world on the console.\n",
    "\n",
    "print(\"\")\n",
    "print(\"Hello world!\")\n",
    "print(\"\")"
   ],
   "cell_type": "markdown",
   "metadata": {
    "tags": []
   }
  },
  {
   "cell_type": "code",
   "execution_count": null,
   "metadata": {},
   "outputs": [],
   "source": []
  }
 ],
 "metadata": {
  "kernelspec": {
   "name": "Python 3.8.5 64-bit",
   "display_name": "Python 3.8.5 64-bit",
   "metadata": {
    "interpreter": {
     "hash": "1baa965d5efe3ac65b79dfc60c0d706280b1da80fedb7760faf2759126c4f253"
    }
   }
  },
  "language_info": {
   "codemirror_mode": {
    "name": "ipython",
    "version": 3
   },
   "file_extension": ".py",
   "mimetype": "text/x-python",
   "name": "python",
   "nbconvert_exporter": "python",
   "pygments_lexer": "ipython3",
   "version": "3.8.5-final"
  }
 },
 "nbformat": 4,
 "nbformat_minor": 4
}